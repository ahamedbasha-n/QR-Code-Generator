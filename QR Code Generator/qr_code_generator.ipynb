{
 "cells": [
  {
   "cell_type": "markdown",
   "metadata": {},
   "source": [
    "# QR Code Generator"
   ]
  },
  {
   "cell_type": "markdown",
   "metadata": {},
   "source": [
    "1. Install qrcode from PyPi\n",
    "2. Import the QR code from qrcode package.\n",
    "3. Type your desired link or string to generate the QR code.\n",
    "4. Save it as an image in your files.\n",
    "5. Share it with your colleagues. \n",
    "\n",
    "PyPi Documentation- https://pypi.org/"
   ]
  },
  {
   "cell_type": "code",
   "execution_count": 5,
   "metadata": {},
   "outputs": [
    {
     "name": "stdout",
     "output_type": "stream",
     "text": [
      "Requirement already satisfied: qrcode in c:\\users\\hp\\anaconda3\\lib\\site-packages (6.1)\n",
      "Requirement already satisfied: colorama; platform_system == \"Windows\" in c:\\users\\hp\\anaconda3\\lib\\site-packages (from qrcode) (0.4.4)\n",
      "Requirement already satisfied: six in c:\\users\\hp\\anaconda3\\lib\\site-packages (from qrcode) (1.15.0)\n"
     ]
    }
   ],
   "source": [
    "!pip install qrcode #install qrcode package from PyPi\n",
    "import qrcode    #import qrcode\n",
    "img=qrcode.make(\"https://youtu.be/Xh_jQPz7PIw\") #desired link\n",
    "img.save(\"project_vid_qr.jpg\") #save it with your desired file-name.jpg"
   ]
  },
  {
   "cell_type": "markdown",
   "metadata": {},
   "source": [
    "Developed by Ahamed Basha N 💻"
   ]
  }
 ],
 "metadata": {
  "kernelspec": {
   "display_name": "Python 3",
   "language": "python",
   "name": "python3"
  },
  "language_info": {
   "codemirror_mode": {
    "name": "ipython",
    "version": 3
   },
   "file_extension": ".py",
   "mimetype": "text/x-python",
   "name": "python",
   "nbconvert_exporter": "python",
   "pygments_lexer": "ipython3",
   "version": "3.8.5"
  }
 },
 "nbformat": 4,
 "nbformat_minor": 4
}
